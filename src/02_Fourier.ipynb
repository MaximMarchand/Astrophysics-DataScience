{
 "cells": [
  {
   "cell_type": "markdown",
   "id": "turkish-reception",
   "metadata": {},
   "source": [
    "Maxime Marchand\n",
    "# Astrophysics and Data Science : Project 2\n",
    "## Extracting individual spectra of spectroscopic binaries using the Fourier transform"
   ]
  },
  {
   "cell_type": "code",
   "execution_count": null,
   "id": "statutory-insertion",
   "metadata": {
    "ExecuteTime": {
     "end_time": "2023-11-29T19:19:18.994545Z",
     "start_time": "2023-11-29T19:19:17.724557Z"
    }
   },
   "outputs": [],
   "source": [
    "import numpy as np\n",
    "import matplotlib.pyplot as plt\n",
    "from astropy import constants as const\n",
    "from astropy import units as u\n",
    "from tqdm import tqdm"
   ]
  },
  {
   "cell_type": "markdown",
   "id": "arranged-dover",
   "metadata": {},
   "source": [
    "### Part 2 : Data loading and visualization"
   ]
  },
  {
   "cell_type": "code",
   "execution_count": null,
   "id": "similar-newspaper",
   "metadata": {
    "ExecuteTime": {
     "start_time": "2023-11-29T19:19:18.766Z"
    }
   },
   "outputs": [],
   "source": [
    "# Reading data file\n",
    "fName = 'data.npz'\n",
    "data  = dict(np.load(fName))\n",
    "\n",
    "# Changing key names\n",
    "data['la']   = data.pop('la_nm')      # Wavelengths\n",
    "data['vA']   = data.pop('vA_m_s')     # Radial velocity of A\n",
    "data['vB']   = data.pop('vB_m_s')     # Radial velocity of B\n",
    "data['spec'] = data.pop('spectra')    # Spectra of the binary (axis 0 = time, axis 1 = wavelength)\n",
    "\n",
    "# Plotting data\n",
    "xmin = 587\n",
    "xmax = 592\n",
    "\n",
    "fig, ax = plt.subplots(nrows=2, ncols=1, figsize=(16, 4), dpi=300)\n",
    "\n",
    "# Selection of the points between xmin and xmax. The * operator acts as an AND statement\n",
    "sel = (data['la'] >= xmin) * (data['la'] <= xmax)\n",
    "\n",
    "ax[0].plot(data['la'], data['spec'][0], lw=0.5)\n",
    "ax[0].plot(data['la'][sel], data['spec'][0][sel], c='k')\n",
    "ax[0].axvline(xmin, c='grey')\n",
    "ax[0].axvline(xmax, c='grey')\n",
    "\n",
    "ax[1].set_xlabel(\"Wavelength [nm]\")\n",
    "ax[1].set_ylabel(\"Spectra\")\n",
    "ax[1].set_xlim(xmin, xmax)\n",
    "ax[1].plot(data['la'], data['spec'][0], c='k');"
   ]
  },
  {
   "cell_type": "markdown",
   "id": "fatal-sense",
   "metadata": {},
   "source": [
    "### Part 3 : Doppler shift of the spectra\n",
    "\n",
    ">##### Point a)\n",
    "Give the expression of $F$ as a function of $F_A$, $F_B$, $\\Delta\\lambda_A$, and $\\Delta\\lambda_B$.\n",
    "\n",
    "The difference in wavelength due to the motion of a source can be written as :\n",
    "\n",
    "\\begin{equation}\n",
    "\\Delta\\lambda = \\lambda_{ref} \\left( \\sqrt{\\frac{1+\\beta}{1-\\beta}} - 1 \\right)\n",
    "\\end{equation}\n",
    "\n",
    "Where, in our case, $\\lambda_{ref} = 589.5$ nm is supposed to be constant. With this definition, one can rewrite the expression of $F(\\lambda)$ as a function of $F_A(\\lambda)$, $F_B(\\lambda)$, $\\Delta\\lambda_A$ and $\\Delta\\lambda_B$ :\n",
    "\n",
    "\\begin{equation}\n",
    "F(\\lambda) = F_A(\\lambda - \\Delta\\lambda_A) + F_B(\\lambda - \\Delta\\lambda_B)\n",
    "\\end{equation}\n",
    "\n",
    ">##### Point b)\n",
    "Compute the values of $\\Delta\\lambda_A$ and $\\Delta\\lambda_B$ for each spectrum."
   ]
  },
  {
   "cell_type": "code",
   "execution_count": null,
   "id": "genetic-setting",
   "metadata": {
    "ExecuteTime": {
     "start_time": "2023-11-29T19:19:19.786Z"
    }
   },
   "outputs": [],
   "source": [
    "def compute_delta_lambda(nu, lambda_ref):\n",
    "    beta = nu / const.c.value\n",
    "    return lambda_ref * ( np.sqrt( (1+beta)/(1-beta) ) - 1 )\n",
    "\n",
    "lambda_ref = 589.5\n",
    "\n",
    "delta_lambdas = np.ndarray(shape=(len(data['spec']), 2))\n",
    "\n",
    "for i in range(len(data['spec'])):\n",
    "    vA = data['vA'][i]\n",
    "    vB = data['vB'][i]\n",
    "    deltaLambdaA = compute_delta_lambda(vA, lambda_ref)\n",
    "    deltaLambdaB = compute_delta_lambda(vB, lambda_ref)\n",
    "    delta_lambdas[i, :] = [deltaLambdaA, deltaLambdaB]"
   ]
  },
  {
   "cell_type": "markdown",
   "id": "quick-murder",
   "metadata": {},
   "source": [
    "Lets make a graph of the values of $\\Delta\\lambda_{A, B}$ for each measurment :"
   ]
  },
  {
   "cell_type": "code",
   "execution_count": null,
   "id": "given-customer",
   "metadata": {
    "ExecuteTime": {
     "end_time": "2023-11-29T19:19:23.043285Z",
     "start_time": "2023-11-29T19:19:22.141643Z"
    }
   },
   "outputs": [],
   "source": [
    "x = np.arange(0, len(data['spec']))\n",
    "\n",
    "fig, ax = plt.subplots(figsize=(16, 2), dpi=300)\n",
    "ax.set_xlabel(\"Measurment\")\n",
    "ax.set_ylabel(\"$\\Delta\\lambda$\")\n",
    "\n",
    "ax.plot(x, delta_lambdas[:, 0], marker='o', label=\"$\\Delta\\lambda_A$\")\n",
    "ax.plot(x, delta_lambdas[:, 1], marker='o', label=\"$\\Delta\\lambda_B$\")\n",
    "ax.axhline(0, c='k', alpha=0.3);\n",
    "\n",
    "ax.legend();"
   ]
  },
  {
   "cell_type": "markdown",
   "id": "continuous-thickness",
   "metadata": {},
   "source": [
    "As we can observe the points always have opposite values, which confirms the rotation of the two stars, one being redshiftef as the second one is blueshifted, and vice versa. The blue line is more flat, which could be explained by the fact that the star is more massive.\n",
    "\n",
    "### Part 4 : Doppler shifts in Fourier space\n",
    "\n",
    ">##### Point a)\n",
    "For a given spectrum $F(\\lambda)$, give the expression of its Fourier transform $\\hat{F}(\\nu)$ as a function of the Fourier transforms of both components ($\\hat{F}_A$ and $\\hat{F}_B$).\n",
    "\n",
    "We saw in the point 3a that the spectrum of the system $F(\\lambda)$ can be written as :\n",
    "\n",
    "\\begin{equation}\n",
    "F(\\lambda) = F_A(\\lambda + \\Delta\\lambda_A) + F_B(\\lambda + \\Delta\\lambda_B)\n",
    "\\end{equation}\n",
    "\n",
    "Let recall the Fourier transform of a function $f(\\lambda)$ :\n",
    "\n",
    "\\begin{equation}\n",
    "\\hat{f}(\\nu) = \\frac{1}{\\sqrt{2\\pi}} \\int_{-\\infty}^{\\infty} f(\\lambda) e^{-2\\pi i \\nu\\lambda} d\\lambda\n",
    "\\end{equation}\n",
    "\n",
    "Let compute :\n",
    "\n",
    "\n",
    "\\begin{eqnarray}\n",
    "\\hat{F}(\\nu) & = & \\frac{1}{\\sqrt{2\\pi}} \\int_{-\\infty}^{\\infty} F(\\lambda) e^{-2\\pi i \\lambda \\nu} \\: d\\lambda\n",
    "               =   \\frac{1}{\\sqrt{2\\pi}} \\int_{-\\infty}^{\\infty} \\big[ F_A(\\lambda - \\Delta\\lambda_A) \n",
    "                    + F_B(\\lambda - \\Delta\\lambda_B) \\big] e^{-2\\pi i \\lambda \\nu} \\;d\\lambda \\\\\n",
    "             & = & \\frac{1}{\\sqrt{2\\pi}} \\int_{-\\infty}^{\\infty} F_A(\\lambda - \\Delta\\lambda_A) e^{-2\\pi i \\lambda \\nu} \\; d\\lambda + \\frac{1}{\\sqrt{2\\pi}} \\int_{-\\infty}^{\\infty} F_B(\\lambda - \\Delta\\lambda_B) e^{-2\\pi i \\lambda \\nu} \\; d\\lambda \\\\\n",
    "             & = & \\frac{1}{\\sqrt{2\\pi}} \\int_{-\\infty}^{\\infty} F_A(\\lambda') e^{-2\\pi i \\nu (\\lambda' + \\Delta\\lambda_A)} \\; d\\lambda' + \\frac{1}{\\sqrt{2\\pi}} \\int_{-\\infty}^{\\infty} F_B(\\lambda'') e^{-2\\pi i \\nu (\\lambda''+\\Delta\\lambda_B) } \\; d\\lambda'' \\\\\n",
    "             & = & e^{-2\\pi i \\nu \\Delta\\lambda_A} \\hat{F}_A(\\nu) + e^{-2\\pi i \\nu \\Delta\\lambda_B} \\hat{F}_B(\\nu)\n",
    "\\end{eqnarray}\n",
    "\n",
    "\n",
    "We finally find :\n",
    "\n",
    "\\begin{equation}\n",
    "\\hat{F}(\\nu) = e^{-2\\pi i\\nu \\Delta\\lambda_A} \\hat{F}_A(\\nu) + e^{-2\\pi i\\nu \\Delta\\lambda_B} \\hat{F}_B(\\nu)\n",
    "\\end{equation}\n",
    "\n",
    ">##### Point b)\n",
    "Since we have 34 spectra taken at different epochs, we have 34 different Fourier transforms $\\hat{F}_k(\\nu)$ corresponding to different shifts $\\Delta\\lambda_{A, k}$, $\\Delta\\lambda_{B, k}$. We now want to solve for the values of $\\hat{F}_A(\\nu)$ and $\\hat{F}_B(\\nu)$. Show that $\\hat{F}_A(\\nu)$ and $\\hat{F}_B(\\nu)$ can be solved for, at each frequency $\\nu$ independently.\n",
    "\n",
    "We computed in the previous point the Fourier transform of the spectra $\\hat{F}(\\nu)$. As we can observe, for each measurement, the difference in wavelength $\\Delta\\lambda_{A,B}$ only appears in the phases (complex exponentials). Thus, for each value of the frequency $\\nu$, the Fourier transform of the two objects $\\hat{F}_A(\\nu)$ and $\\hat{F}_B(\\nu)$ are independant of the value of the redshift/blueshift.\n",
    "\n",
    ">##### Point c)\n",
    "Show that for a given frequency $\\nu$, solving for $\\hat{F}_A(\\nu)$ and $\\hat{F}_B(\\nu)$ requires to solve a linear problem of the form $y = a\\theta + \\varepsilon$. What does play the role of $y, A, \\theta$, and $\\varepsilon$ here ?\n",
    "\n",
    "Let $N$ be the number of measurements, and $i\\in[1, N]$ the index of a measurement. Considering the previous equation, one can write a system of equations in the form $y = A\\theta + \\varepsilon$ :\n",
    "\n",
    "\\begin{equation}\n",
    "\\begin{bmatrix} \\hat{F}_1(\\nu) \\\\ \\vdots \\\\ \\hat{F}_N(\\nu) \\end{bmatrix} = \n",
    "\\begin{bmatrix} e^{-2\\pi i \\nu \\Delta\\lambda_{A1}} & e^{-2 \\pi i \\nu \\Delta\\lambda_{B1}} \\\\ \\vdots & \\vdots \\\\ e^{-2\\pi i \\nu \\Delta\\lambda_{AN}} & e^{-2 \\pi i \\nu \\Delta\\lambda_{BN}} \\end{bmatrix}\n",
    "\\begin{bmatrix}\n",
    "\\hat{F}_A(\\nu) \\\\ \\\\ \\hat{F}_B(\\nu)\n",
    "\\end{bmatrix} + \n",
    "\\begin{bmatrix}\n",
    "\\varepsilon_1 \\\\ \\vdots \\\\ \\varepsilon_N\n",
    "\\end{bmatrix}\n",
    "\\end{equation}\n",
    "\n",
    "Here, $y$ plays the role of the spectrum to be modelled, $A$ the basis matrix of the linear system, $\\theta$ the parameters of our model, and $\\varepsilon$ the noise due to the fact that the measurements are subject to noise. :-)\n",
    "\n",
    "\n",
    "### Part 5 : Side effects and apodization\n",
    ">##### Point a)\n",
    "Compute the 2D array of apodized spectra\n",
    "\n",
    "The apodized spectra is given by :\n",
    "\n",
    "\\begin{equation}\n",
    "F_{apo}(\\lambda_i) = \\sin^2\\left(\\frac{\\pi k}{n}\\right) (F_{\\lambda_i} - C)\n",
    "\\end{equation}"
   ]
  },
  {
   "cell_type": "code",
   "execution_count": null,
   "id": "empirical-negative",
   "metadata": {
    "ExecuteTime": {
     "end_time": "2023-11-29T19:19:27.449465Z",
     "start_time": "2023-11-29T19:19:25.872845Z"
    }
   },
   "outputs": [],
   "source": [
    "C = 54440\n",
    "\n",
    "# We keep the apodized spectra in a different variable to keep the original data\n",
    "apodized_spec = data['spec'].copy()\n",
    "\n",
    "num_pixels = len(data['la'])\n",
    "k = np.arange(0, len(apodized_spec[0]), 1)   # k = [0, 1, 2, 3, ..., numPixels-1]\n",
    "\n",
    "\n",
    "for i in range(len(apodized_spec)):\n",
    "    apodized_spec[i] = np.sin(np.pi * k / num_pixels)**2 * (apodized_spec[i] - C)\n",
    "    \n",
    "\n",
    "# Plotting the data\n",
    "fig, ax = plt.subplots(nrows=2, ncols=1, figsize=(16, 4), dpi=300)\n",
    "fig.subplots_adjust(hspace=0)\n",
    "ax[0].set_title(\"[above] Original spectra - [below] Apodized spectra\")\n",
    "ax[0].plot(data['la'], data['spec'][0], c='k')\n",
    "ax[1].plot(data['la'], apodized_spec[0], c='k');\n",
    "\n",
    "ax[0].axhline(np.max(data['spec'][0]), c='r')\n",
    "ax[1].axhline(0, c='r');"
   ]
  },
  {
   "cell_type": "markdown",
   "id": "treated-bankruptcy",
   "metadata": {},
   "source": [
    ">##### Point b) \n",
    "Compute the 2D array of their Fourier transforms (using np.fft)"
   ]
  },
  {
   "cell_type": "code",
   "execution_count": null,
   "id": "working-dressing",
   "metadata": {
    "ExecuteTime": {
     "end_time": "2023-11-29T19:19:41.867155Z",
     "start_time": "2023-11-29T19:19:41.816056Z"
    }
   },
   "outputs": [],
   "source": [
    "apodized_spec_FFT = np.fft.rfft(apodized_spec)"
   ]
  },
  {
   "cell_type": "markdown",
   "id": "raised-contemporary",
   "metadata": {},
   "source": [
    ">##### Point c)\n",
    "Loop over the frequency $\\nu \\neq 0$ and solve for $\\hat{F}_A(\\nu)$ anf $\\hat{F}_B(\\nu)$"
   ]
  },
  {
   "cell_type": "code",
   "execution_count": null,
   "id": "intellectual-syria",
   "metadata": {
    "ExecuteTime": {
     "end_time": "2023-11-29T19:21:26.255981Z",
     "start_time": "2023-11-29T19:21:22.813721Z"
    }
   },
   "outputs": [],
   "source": [
    "dlambda = data['la'][1] - data['la'][0]\n",
    "freq    = np.fft.rfftfreq(len(data['la']), d=dlambda)\n",
    "\n",
    "epsilons = np.ones(len(data['spec'])) # The epsilon can be different for each measurment, but it is the same for each freq.\n",
    "\n",
    "F_A_FFT = np.ndarray(shape=len(freq), dtype=complex)\n",
    "F_B_FFT = np.ndarray(shape=len(freq), dtype=complex)\n",
    "\n",
    "for i in range(1, len(freq)):\n",
    "    nu = freq[i]\n",
    "    X  = np.exp(-2 * np.pi * 1j * nu * delta_lambdas) # Basis matrix\n",
    "    Sigma      = np.diag(epsilons**2)\n",
    "    Weight     = np.linalg.inv(Sigma)\n",
    "    Ca         = np.linalg.inv(X.T @ Weight @ X)\n",
    "    aMLE       = Ca @ X.T @ Weight @ apodized_spec_FFT[:, i]\n",
    "    F_A_FFT[i] = aMLE[0]\n",
    "    F_B_FFT[i] = aMLE[1]"
   ]
  },
  {
   "cell_type": "markdown",
   "id": "annoying-bennett",
   "metadata": {},
   "source": [
    ">##### Point d)\n",
    ">What happens when $\\nu = 0$ ? Comment on the reason and consequences.\n",
    "\n",
    "If $\\nu = 0$, then the wavelength $\\lambda$ is infinite, which is not physically consistent. Furthermore, if $\\nu = 0$, the basis matrix is full of ones, thus the covariance matrix $C_\\theta = X^T \\Sigma^{-1} X$ cannot be inverted."
   ]
  },
  {
   "cell_type": "markdown",
   "id": "weighted-cherry",
   "metadata": {},
   "source": [
    ">##### Point e)\n",
    ">Compute the individual apodized spectra of the two stars from their Fourier transforms"
   ]
  },
  {
   "cell_type": "code",
   "execution_count": null,
   "id": "secure-amplifier",
   "metadata": {
    "ExecuteTime": {
     "end_time": "2023-11-29T19:21:28.179053Z",
     "start_time": "2023-11-29T19:21:28.169709Z"
    }
   },
   "outputs": [],
   "source": [
    "Fapo_A = np.fft.irfft(F_A_FFT)\n",
    "Fapo_B = np.fft.irfft(F_B_FFT)"
   ]
  },
  {
   "cell_type": "markdown",
   "id": "combined-begin",
   "metadata": {},
   "source": [
    ">##### Point f)\n",
    ">Finally correct the individual spectra from the apodization factor. Comment your results."
   ]
  },
  {
   "cell_type": "code",
   "execution_count": null,
   "id": "further-winning",
   "metadata": {
    "ExecuteTime": {
     "end_time": "2023-11-29T19:21:30.315573Z",
     "start_time": "2023-11-29T19:21:30.303457Z"
    }
   },
   "outputs": [],
   "source": [
    "F_A = Fapo_A / (np.sin(np.pi * k / num_pixels)**2) + C\n",
    "F_B = Fapo_B / (np.sin(np.pi * k / num_pixels)**2) + C"
   ]
  },
  {
   "cell_type": "markdown",
   "id": "optical-insight",
   "metadata": {},
   "source": [
    "Let have a look at the individual spectra :"
   ]
  },
  {
   "cell_type": "code",
   "execution_count": null,
   "id": "indirect-pizza",
   "metadata": {
    "ExecuteTime": {
     "end_time": "2023-11-29T19:21:34.621845Z",
     "start_time": "2023-11-29T19:21:32.922958Z"
    }
   },
   "outputs": [],
   "source": [
    "fig, ax = plt.subplots(nrows=2, ncols=1, figsize=(16, 4), dpi=300)\n",
    "fig.subplots_adjust(hspace=0)\n",
    "\n",
    "lim = 15000\n",
    "\n",
    "ax[0].plot(data['la'][lim:-lim], F_A[lim:-lim], c='k')\n",
    "ax[1].plot(data['la'][lim:-lim], F_B[lim:-lim], c='k');"
   ]
  }
 ],
 "metadata": {
  "kernelspec": {
   "display_name": "Python 3 (ipykernel)",
   "language": "python",
   "name": "python3"
  },
  "language_info": {
   "codemirror_mode": {
    "name": "ipython",
    "version": 3
   },
   "file_extension": ".py",
   "mimetype": "text/x-python",
   "name": "python",
   "nbconvert_exporter": "python",
   "pygments_lexer": "ipython3",
   "version": "3.11.3"
  }
 },
 "nbformat": 4,
 "nbformat_minor": 5
}
