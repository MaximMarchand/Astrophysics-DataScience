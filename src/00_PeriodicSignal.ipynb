{
 "cells": [
  {
   "cell_type": "markdown",
   "id": "incomplete-divorce",
   "metadata": {},
   "source": [
    "Maxime Marchand\n",
    "\n",
    "# Astrophysics and Data Science\n",
    "## Project 00 : Searching for periodic signals in the unevenly sampled time series"
   ]
  },
  {
   "cell_type": "code",
   "execution_count": null,
   "id": "standard-discovery",
   "metadata": {
    "ExecuteTime": {
     "end_time": "2023-11-29T19:04:06.214552Z",
     "start_time": "2023-11-29T19:04:04.569768Z"
    }
   },
   "outputs": [],
   "source": [
    "import numpy as np\n",
    "import matplotlib.pyplot as plt\n",
    "from astropy.io import ascii\n",
    "from tqdm import tqdm"
   ]
  },
  {
   "cell_type": "markdown",
   "id": "english-thought",
   "metadata": {},
   "source": [
    "### Part 1 : Polynomial fit\n",
    "#### Part 1.1 : Data visualization"
   ]
  },
  {
   "cell_type": "code",
   "execution_count": null,
   "id": "earned-reserve",
   "metadata": {
    "ExecuteTime": {
     "end_time": "2023-11-29T19:05:24.709028Z",
     "start_time": "2023-11-29T19:05:24.457898Z"
    }
   },
   "outputs": [],
   "source": [
    "# Reading the data\n",
    "#inFileName = 'data1.csv'\n",
    "inFileName = 'data2.csv' # Correct one\n",
    "\n",
    "data = ascii.read(inFileName)\n",
    "\n",
    "# Plotting the data\n",
    "fig, ax = plt.subplots(figsize=(8, 4))\n",
    "ax.set_xlabel(\"Time\")\n",
    "ax.set_ylabel(\"Measurment\")\n",
    "ax.errorbar(data['t'], data['y'], yerr=data['ey'], fmt='ok', label=\"Data\")\n",
    "ax.legend();"
   ]
  },
  {
   "cell_type": "markdown",
   "id": "passive-capability",
   "metadata": {},
   "source": [
    "#### Part 1.2 : Modeling the data and model comparison"
   ]
  },
  {
   "cell_type": "markdown",
   "id": "latin-poverty",
   "metadata": {},
   "source": [
    "In this exercise, we consider that the measurments are realizations of an independent Normal (Gaussian) random process, where $ey_i$ is a good estimate of the standard deviation of the distribution. Before modelling the data, we introduce the Bayesian Information Criterion.\n",
    "\n",
    "##### Bayesian Information Criterion (BIC)\n",
    "\n",
    "BIC is an estimation tool used in order to differentiate the pertiniency of different models. As increasing the number of parameters of a model will increase the likelihood functions, it may also be counterproductive as the resulting model could overfit the data. The BIC evaluates the pertinency of different models in order to avoid this problem. The BIC is expressed as :\n",
    "\n",
    "\\begin{equation}\n",
    "BIC = k \\ln(n) - 2 \\log(\\mathcal{L})\n",
    "\\end{equation}\n",
    "\n",
    "Where $k$ is the number of parameters, $n$ the number of measurments and $\\mathcal{L}$ the likelihood function that corresponds to the distribution. In the case of a gaussian distribution, the BIC can be written as :\n",
    "\n",
    "\\begin{equation}\n",
    "BIC = \\chi^2 + k \\ln(n)\n",
    "\\end{equation}\n",
    "\n",
    "> ##### Demonstration\n",
    "> *Starting from the definition of a Gaussian distribution :*\n",
    ">\n",
    ">\\begin{equation}\n",
    "f(\\sigma, \\mu) = \\frac{1}{\\sqrt{2\\pi\\sigma^2}} \\exp\\left( -\\frac{1}{2} \\left(\\frac{x - \\mu}{\\sigma}\\right)^2 \\right)\n",
    "\\end{equation}\n",
    ">\n",
    ">*The corresponding likelihood function for such a distribution is given by :*\n",
    ">\n",
    ">\\begin{equation}\n",
    "\\mathcal{L} = \\frac{1}{\\sqrt{\\textrm{det}(2\\pi\\mathbf{\\Sigma})}} \\exp\\left(-\\frac{1}{2} (y - f_a)^T \\mathbf{W} (y - f_a)\\right) = \\frac{1}{\\sqrt{\\textrm{det}(2\\pi\\mathbf{\\Sigma})}} \\exp \\left(-\\frac{1}{2}\\chi^2\\right)\n",
    "\\end{equation}\n",
    ">\n",
    ">*Where the last equality is justified by the fact that, in our case, the weight matrix $\\mathbf{W}$ is diagonal. Taking the logarithm leads us to :*\n",
    ">\n",
    ">\\begin{equation}\n",
    "\\log(\\mathcal{L}) = - \\frac{1}{2} \\log\\left(\\textrm{det}(2\\pi\\mathbf{\\Sigma})\\right) - \\frac{1}{2}\\chi^2\n",
    "\\quad \\Leftrightarrow \\quad \n",
    "-2 \\log(\\mathcal{L}) = \\log(\\textrm{det}(2\\pi\\mathbf{\\Sigma})) + \\chi^2\n",
    "\\end{equation}\n",
    "> *We can identify this result with the second term of the definition of the BIC above, close to a constant. As this constant only depends on the data, and not on the model, one can remove it without influencing the relative BIC factors between different models.*\n",
    "\n",
    "\n",
    "\n",
    "\n",
    "Given two models $M_0$ and $M_1$, the Bayes Factor can be evaluated as :\n",
    "\n",
    "\\begin{equation}\n",
    "BF(M_1) = \\frac{P(D|M_0)}{P(D|M_1)} \\approx \\exp\\left( \\frac{\\Delta BIC}{2} \\right) = \\exp \\left( \\frac{BIC(M_1) - BIC(M_0)}{2} \\right)\n",
    "\\end{equation}\n",
    "\n",
    "It is clear that a if $\\log(BF) < 0$, model $M_1$ will be preferred, and vice versa. Thus, for $N$ different models, the best model will be given by the one having the \"less negative\" value."
   ]
  },
  {
   "cell_type": "code",
   "execution_count": null,
   "id": "supposed-providence",
   "metadata": {
    "ExecuteTime": {
     "end_time": "2023-11-29T19:05:47.520836Z",
     "start_time": "2023-11-29T19:05:47.515163Z"
    }
   },
   "outputs": [],
   "source": [
    "def get_chi2(y, X, a, Weight):\n",
    "    return (y - X @ a).T @ Weight @ (y - X @ a)"
   ]
  },
  {
   "cell_type": "code",
   "execution_count": null,
   "id": "classical-apparel",
   "metadata": {
    "ExecuteTime": {
     "end_time": "2023-11-29T19:05:47.870486Z",
     "start_time": "2023-11-29T19:05:47.867432Z"
    }
   },
   "outputs": [],
   "source": [
    "def compute_BIC(k, n, chi2):\n",
    "    return chi2 + k * np.log(n)"
   ]
  },
  {
   "cell_type": "code",
   "execution_count": null,
   "id": "every-today",
   "metadata": {
    "ExecuteTime": {
     "end_time": "2023-11-29T19:05:50.224318Z",
     "start_time": "2023-11-29T19:05:50.219334Z"
    }
   },
   "outputs": [],
   "source": [
    "def compute_BF(n, k1, k2, chi21, chi22):\n",
    "    return np.exp(0.5 * (compute_BIC(k2, n, chi22) - compute_BIC(k1, n, chi21)))"
   ]
  },
  {
   "cell_type": "markdown",
   "id": "pleased-belize",
   "metadata": {},
   "source": [
    "We now implement the model of the fit, which is given by :\n",
    "\n",
    "\\begin{equation}\n",
    "f_l(t_i, \\mathbf{a}) = \\sum_{k=0}^{l} a_k \\left( \\frac{t_i - t_{ref}}{365.25} \\right)^k = \\mathbf{X} \\cdot \\mathbf{a} \\quad \\quad ; \\quad \\quad t_{ref} = \\dfrac{t_{min} + t_{max}}{2}\n",
    "\\end{equation}\n",
    "\n",
    "Where we have\n",
    "\n",
    "\\begin{equation}\n",
    "f_l = \\begin{bmatrix} f_l(t_0, \\mathbf{a}) \\\\ f_l(t_1, \\mathbf{a}) \\\\ \\vdots \\\\ f_l(t_l, \\mathbf{a}) \\end{bmatrix} \n",
    "\\quad ; \\quad\n",
    "\\mathbf{X} = \\begin{bmatrix} 1 & \\frac{t_0-t_{ref}}{365.25} & \\left(\\frac{t_0-t_{ref}}{365.25}\\right)^2 & \\cdots & \\left(\\frac{t_0-t_{ref}}{365.25}\\right)^l \\\\\n",
    "1 & \\frac{t_1-t_{ref}}{365.25} & \\left(\\frac{t_1-t_{ref}}{365.25}\\right)^2 & \\cdots & \\left(\\frac{t_1-t_{ref}}{365.25}\\right)^l \\\\\n",
    "\\vdots & \\vdots & \\vdots & \\vdots & \\vdots \\\\ 1 & \\frac{t_n-t_{ref}}{365.25} & \\left(\\frac{t_n-t_{ref}}{365.25}\\right)^2 & \\cdots & \\left(\\frac{t_n-t_{ref}}{365.25}\\right)^l \\end{bmatrix}\n",
    "\\quad ; \\quad\n",
    "\\mathbf{a} = \\begin{bmatrix} a_0 \\\\ a_1 \\\\ \\vdots \\\\ a_l \\end{bmatrix}\n",
    "\\end{equation}\n",
    "\n",
    "In order to fit this model, we are going to build the basis matrix $\\mathbf{X}$, and implement the covariance matrix $\\mathbf{\\Sigma}$, the weight matrix $\\mathbf{W}$ and the covariance matrix $\\mathbf{C_a}$ :\n",
    "\n",
    "\\begin{equation}\n",
    "\\mathbf{\\Sigma} = \n",
    "\\begin{bmatrix} \n",
    "ey_0^2 & 0      & \\cdots & 0       \\\\\n",
    "  0    & ey_1^2 & \\cdots & 0       \\\\\n",
    "  0    & 0      & \\ddots & \\vdots  \\\\\n",
    "  0    & \\cdots & \\cdots & ey_n^2\n",
    "\\end{bmatrix}\n",
    "\\quad ; \\quad\n",
    "\\mathbf{W} = \\mathbf{\\Sigma^{-1}}\n",
    "\\quad ; \\quad \\mathbf{C_a} = \\big( \\mathbf{X}^T \\cdot \\mathbf{\\Sigma}^{-1} \\cdot \\mathbf{X} \\big)^{-1}\n",
    "\\end{equation}\n",
    "\n",
    "Once it is done, we are able to find the set of parameters $\\mathbf{a_{MLE}} = \\mathbf{C_a} \\cdot  \\mathbf{X}^T \\cdot \\mathbf{W} \\cdot \\mathbf{y}$,  such that the likelihood is maximized. Our best fit model is thus given by the formula :\n",
    "\n",
    "\\begin{equation}\n",
    "\\mathbf{\\hat{y}} = \\mathbf{\\Pi_X} \\cdot \\mathbf{y}\n",
    "\\quad\\quad ; \\quad\\quad\n",
    "\\mathbf{\\Pi_X} = \\big( \\mathbf{X}^T \\cdot \\mathbf{\\Sigma}^{-1} \\cdot \\mathbf{X} \\big)^{-1} \\cdot \\mathbf{X}^T \\cdot \\mathbf{\\Sigma^{-1}}\n",
    "\\end{equation}"
   ]
  },
  {
   "cell_type": "code",
   "execution_count": null,
   "id": "vanilla-romance",
   "metadata": {
    "ExecuteTime": {
     "end_time": "2023-11-29T19:05:55.865001Z",
     "start_time": "2023-11-29T19:05:55.858012Z"
    }
   },
   "outputs": [],
   "source": [
    "def get_matrix_X(t, n, tref):\n",
    "    \"\"\"\n",
    "    Return the basis matrix X\n",
    "    \n",
    "    PARAMETERS\n",
    "        t    : The time series (np.array)\n",
    "        n    : Degree of the polynom\n",
    "        tref : Reference epoch\n",
    "    \"\"\"\n",
    "    lines = []\n",
    "    for i in range(len(t)):\n",
    "        lines.append([((t[i] - tref)/365.25)**k for k in np.arange(0, n+1, 1)])\n",
    "    return np.vstack([_ for _ in lines])"
   ]
  },
  {
   "cell_type": "code",
   "execution_count": null,
   "id": "accepting-brisbane",
   "metadata": {
    "ExecuteTime": {
     "end_time": "2023-11-29T19:05:56.418522Z",
     "start_time": "2023-11-29T19:05:56.410901Z"
    }
   },
   "outputs": [],
   "source": [
    "def fit_Model(data, n, tref):\n",
    "    X         = get_matrix_X(data['t'], n, tref)               # Basis matrix\n",
    "    Sigma     = np.diag(data['ey']**2)                         # COVARIANCE matrix\n",
    "    Weight    = np.linalg.inv(Sigma)                           # Weight matrix\n",
    "    Ca        = np.linalg.inv(X.T @ Weight @ X)                # Covariance matrix\n",
    "    aMLE      = Ca @ X.T @ Weight @ data['y']\n",
    "    aStd      = np.sqrt(np.diag(Ca))\n",
    "    Ra        = Ca/(aStd[:,np.newaxis]*aStd[np.newaxis,:])     # Correlation matrix of aMLE\n",
    "    \n",
    "    yMLE      = X @ aMLE\n",
    "    SigmayMLE = X @ Ca @ X.T\n",
    "    yStd      = np.sqrt(np.diag(SigmayMLE))\n",
    "    \n",
    "    chi2      = get_chi2(data['y'], X, aMLE, Weight)\n",
    "    BIC       = compute_BIC(len(aMLE), len(data['t']), chi2)\n",
    "\n",
    "    return aMLE, aStd, yMLE, yStd, chi2, BIC, X, Sigma, Weight, Ca, Ra"
   ]
  },
  {
   "cell_type": "code",
   "execution_count": null,
   "id": "alpine-murder",
   "metadata": {
    "ExecuteTime": {
     "end_time": "2023-11-29T19:05:57.075718Z",
     "start_time": "2023-11-29T19:05:57.068755Z"
    }
   },
   "outputs": [],
   "source": [
    "def fModel(t, a, tref):\n",
    "    return np.sum([ a[k] * ((t-tref)/365.25)**k for k in range(len(a))], axis=0)"
   ]
  },
  {
   "cell_type": "markdown",
   "id": "treated-factor",
   "metadata": {},
   "source": [
    "Now that we have the tools to fit the model, we try this for many polynom degrees"
   ]
  },
  {
   "cell_type": "code",
   "execution_count": null,
   "id": "superior-millennium",
   "metadata": {
    "ExecuteTime": {
     "end_time": "2023-11-29T19:05:59.197824Z",
     "start_time": "2023-11-29T19:05:58.189300Z"
    }
   },
   "outputs": [],
   "source": [
    "degrees = [0, 1, 2, 3, 4, 5]\n",
    "\n",
    "tmin = np.min(data['t'])\n",
    "tmax = np.max(data['t'])\n",
    "\n",
    "# Uncomment for part 1.4\n",
    "tref = 0.5 * (tmin + tmax)\n",
    "#tref = tmin\n",
    "#tref = tmax\n",
    "#tref = 2 * tmin - tmax\n",
    "\n",
    "\n",
    "results = {'n'    : [], 'aMLE' : [], 'aStd' : [],'yMLE'   : [],   'yStd' : [], \n",
    "           'chi2' : [], 'BIC'  : [], 'X'    : [], 'Sigma' : None, 'Weight' : None, 'Ca' : [],\n",
    "           'Ra'   : []}\n",
    "\n",
    "for n in degrees:\n",
    "    aMLE, aStd, yMLE, yStd, chi2, BIC, X, Sigma, Weight, Ca, Ra = fit_Model(data, n, tref)\n",
    "    results['n'].append(n)\n",
    "    results['aMLE'].append(aMLE)\n",
    "    results['aStd'].append(aStd)\n",
    "    results['yMLE'].append(yMLE)\n",
    "    results['yStd'].append(yStd)\n",
    "    results['chi2'].append(chi2)\n",
    "    results['BIC'].append(BIC)\n",
    "    results['X'].append(X)\n",
    "    results['Ca'].append(Ca)\n",
    "    results['Ra'].append(Ra)\n",
    "    \n",
    "    if results['Sigma'] is None:\n",
    "        results['Sigma'] = Sigma\n",
    "    if results['Weight'] is None:\n",
    "        results['Weight'] = Weight\n",
    "\n",
    "# Printing chi2 and BIC values\n",
    "print(\"n   chi2    BIC\")\n",
    "[print(\"{} {:>9.3f} {:.3f}\".format(*_)) for _ in zip(results['n'], results['chi2'], results['BIC'])]\n",
    "\n",
    "# Printing Bayes factor\n",
    "print(\"\\nBayes Factor (log) :\")\n",
    "numMes = len(data['t'])\n",
    "print(\"n  \", *degrees, sep='       ')\n",
    "\n",
    "for i in range(len(degrees)):\n",
    "    print(results['n'][i], end='  ')\n",
    "    k1 = len(results['aMLE'][i])\n",
    "    chi21 = results['chi2'][i]\n",
    "\n",
    "    for j in range(len(degrees)):\n",
    "        k2 = len(results['aMLE'][j])\n",
    "        chi22 = results['chi2'][j]\n",
    "        print(\"{:>8.1f}\".format(np.log(compute_BF(numMes, k1, k2, chi21, chi22))), end='')\n",
    "    \n",
    "    print()\n",
    "    \n",
    "\n",
    "# Plotting matrices\n",
    "fig, ax = plt.subplots(nrows=1, ncols=3, figsize =(12, 4))\n",
    "ax[0].set_title(\"Covariance matrix $\\mathbf{\\Sigma}$\")\n",
    "ax[0].imshow(Sigma)\n",
    "ax[1].set_title(\"Weight matrix $\\mathbf{W}$\")\n",
    "ax[1].imshow(Weight)\n",
    "ax[2].set_title(\"Covariance matrix $\\mathbf{C_a}$\")\n",
    "ax[2].imshow(Ca);\n",
    "plt.show()\n",
    "\n",
    "print(\"\\nCorrelation matrices Ra :\")\n",
    "fig, ax = plt.subplots(nrows=1, ncols=len(degrees), figsize=(20, 3))\n",
    "for i in range(len(degrees)):\n",
    "    ax[i].set_title(\"n = {}\".format(results['n'][i]))\n",
    "    ax[i].imshow(results['Ra'][i])\n",
    "    ax[i].xaxis.set_visible(False)\n",
    "    ax[i].yaxis.set_visible(False)"
   ]
  },
  {
   "attachments": {
    "minions-2.jpg": {
     "image/jpeg": "[encoded data removed]"
    }
   },
   "cell_type": "markdown",
   "id": "plain-advertising",
   "metadata": {},
   "source": [
    "## Look at those beautiful matrices !!!\n",
    "![minions-2.jpg](attachment:minions-2.jpg)"
   ]
  },
  {
   "cell_type": "markdown",
   "id": "civilian-arkansas",
   "metadata": {},
   "source": [
    "#### Part 1.3 : Data visualization"
   ]
  },
  {
   "cell_type": "code",
   "execution_count": null,
   "id": "boxed-department",
   "metadata": {
    "ExecuteTime": {
     "end_time": "2023-11-29T19:09:44.226437Z",
     "start_time": "2023-11-29T19:09:42.309111Z"
    }
   },
   "outputs": [],
   "source": [
    "t = np.linspace(np.min(data['t']), np.max(data['t']), 100)\n",
    "\n",
    "fig, ax = plt.subplots(nrows=2, ncols=len(degrees), figsize=(30, 5), dpi=100, gridspec_kw={'height_ratios': [3, 1]})\n",
    "fig.subplots_adjust(hspace=0, wspace=0.15)\n",
    "\n",
    "for i in tqdm(range(len(degrees))):\n",
    "    ax[0, i].set_title(\"n = {}\".format(results['n'][i]))\n",
    "    ax[0, i].xaxis.set_visible(False)\n",
    "    ax[0, i].errorbar(data['t'], data['y'], yerr=data['ey'], fmt='ok', label=\"Data\")\n",
    "    \n",
    "    # Smooth plot\n",
    "    ax[0, i].plot(t, fModel(t, results['aMLE'][i], tref), label=\"Model fit\")\n",
    "    Xs = get_matrix_X(t, degrees[i], tref)\n",
    "    ys = Xs @ results['aMLE'][i]\n",
    "    Sigmays=Xs@results['Ca'][i]@Xs.T\n",
    "    ysStd=np.sqrt(np.diag(Sigmays))\n",
    "\n",
    "    ax[0, i].fill_between(t, ys-ysStd,ys+ysStd, alpha=0.3, label=\"Error\")\n",
    "    \n",
    "    # Residuals plots\n",
    "    res = data['y'] - results['yMLE'][i]\n",
    "    ax[1, i].errorbar(data['t'], res, yerr=data['ey'], fmt='.', label=\"Residual\", c='k')\n",
    "    ax[1, i].axhline(  0, c='gray', alpha=0.5)\n",
    "    ax[1, i].axhline( 10, c='gray', alpha=0.5)\n",
    "    ax[1, i].axhline(-10, c='gray', alpha=0.5)\n",
    "    ax[1, i].set_ylim(-20, 20)\n",
    "    ax[1, i].set_xlabel(\"Time\")\n",
    "    \n",
    "\n",
    "ax[0, 0].yaxis.set_visible(True)\n",
    "ax[0, 0].set_ylabel(\"Measurement\")\n",
    "ax[0, -1].legend()\n",
    "ax[1, 0].yaxis.set_visible(True)\n",
    "ax[1, 0].set_ylabel(\"Residuals\")\n",
    "ax[1, -1].legend()\n",
    "ax[1, -1].yaxis.set_visible(True)"
   ]
  },
  {
   "cell_type": "markdown",
   "id": "comic-warner",
   "metadata": {},
   "source": [
    "#### Part 1.4 : Impact of reference epoch on data modeling\n",
    "\n",
    "In order to study the impact of the reference epoch, we do the analysis for $t_{ref} = t_{min}$, $t_{ref} = t_{max}$, and $t_{ref} = 2t_{min} - t_{max}$ \\\n",
    "To avoid code rewriting, simply restart the kernel after having modified the variable tref in part 1.2. \\"
   ]
  },
  {
   "cell_type": "markdown",
   "id": "competitive-attack",
   "metadata": {},
   "source": [
    "### Part 2 : Periodogram\n",
    "#### Part 2.1 : Modeling the data\n",
    "\n",
    "We now try to add an other periodic signal in our data. The model will be :\n",
    "\n",
    "\\begin{equation}\n",
    "g_m(t_i|\\mathbf{a}) = \\sum_{k=0}^{m} a_k \\left( \\frac{t_i - t_{ref}}{365.25} \\right)^k + a_{m+1} \\cos \\left( 2\\pi\\nu_j (t_i - t_{ref}) \\right) + a_{m+2} \\sin \\left( 2\\pi\\nu_j (t_i - t_{ref}) \\right)\n",
    "\\end{equation}\n",
    "\n",
    "This model is simlar as the one before, except the addition of two additionnal terms. To avoid confusion in the code, let denote the basis matrix by $\\mathbf{Y}$.\n",
    "\n",
    "\n",
    "We will probe this model of the following set of frequencies :\n",
    "\n",
    "\\begin{equation}\n",
    "\\nu_j = \\frac{1}{P_j} = \\frac{1}{\\Delta T} \\frac{j}{5} \\quad ; \\quad j = 1, \\cdots, N_f = 5000\n",
    "\\end{equation}"
   ]
  },
  {
   "cell_type": "code",
   "execution_count": null,
   "id": "activated-eating",
   "metadata": {
    "ExecuteTime": {
     "end_time": "2023-11-29T19:10:24.814567Z",
     "start_time": "2023-11-29T19:10:24.809518Z"
    }
   },
   "outputs": [],
   "source": [
    "def get_matrix_Y(t, nu, n):\n",
    "    \n",
    "    tmin = np.min(t)\n",
    "    tmax = np.max(t)\n",
    "    tref = 0.5 * (tmin + tmax)\n",
    "    \n",
    "    X    = get_matrix_X(t, n, tref)\n",
    "    col1 = np.array(np.cos(2 * np.pi * nu * (t - tref))).T\n",
    "    col2 = np.array(np.sin(2 * np.pi * nu * (t - tref))).T\n",
    "\n",
    "    return np.c_[X, col1, col2]"
   ]
  },
  {
   "cell_type": "code",
   "execution_count": null,
   "id": "golden-limit",
   "metadata": {
    "ExecuteTime": {
     "end_time": "2023-11-29T19:10:26.293077Z",
     "start_time": "2023-11-29T19:10:26.286873Z"
    }
   },
   "outputs": [],
   "source": [
    "def fit_Model_periodogram(data, n, nu):\n",
    "    Y         = get_matrix_Y(data['t'], nu, n)   # Basis matrix\n",
    "    Sigma     = np.diag(data['ey']**2)           # Correlation matrix\n",
    "    Weight    = np.linalg.inv(Sigma)             # Weight matrix\n",
    "    Ca        = np.linalg.inv(Y.T @ Weight @ Y)  # Covariance matrix\n",
    "    aMLE      = Ca @ Y.T @ Weight @ data['y']\n",
    "    aStd      = np.sqrt(np.diag(Ca))\n",
    "    yMLE      = Y @ aMLE\n",
    "    SigmayMLE = Y @ Ca @ Y.T\n",
    "    yMLEStd   = np.sqrt(np.diag(SigmayMLE))\n",
    "    \n",
    "    chi2      = get_chi2(data['y'], Y, aMLE, Weight)\n",
    "    BIC       = compute_BIC(len(aMLE), len(data['t']), chi2)\n",
    "\n",
    "    return dict({'aMLE'  : aMLE, 'aStd'  : aStd,  'yMLE'   : yMLE,    \n",
    "                  'yStd' : yStd, 'chi2'  : chi2,  'BIC'    : BIC,     \n",
    "                  'Y'    : Y,    'Sigma' : Sigma, 'Weight' : Weight,  \n",
    "                  'Ca'   : Ca})"
   ]
  },
  {
   "cell_type": "code",
   "execution_count": null,
   "id": "close-potter",
   "metadata": {
    "ExecuteTime": {
     "end_time": "2023-11-29T19:11:02.347731Z",
     "start_time": "2023-11-29T19:10:27.628671Z"
    }
   },
   "outputs": [],
   "source": [
    "results_model2 = dict()\n",
    "\n",
    "DeltaT = np.max(data['t']) - np.min(data['t'])\n",
    "numsample = 5000\n",
    "frequencies = [j/(5*DeltaT) for j in range(1, numsample+1)]\n",
    "periods = [1/_ for _ in frequencies]\n",
    "\n",
    "for i in range(len(degrees)):\n",
    "    n = degrees[i]\n",
    "    results_model2[str(n)] = dict({'nu'   : [],   'aMLE'  : [],   'aStd'   : [],   'yMLE'   : [],    \n",
    "                                   'yStd' : [],   'chi2'  : [],   'BIC'    : [],     \n",
    "                                   'Y'    : [],   'Sigma' : None, 'Weight'  : None,  \n",
    "                                   'Ca'   : [],   'per'   : []})\n",
    "    for j in tqdm(range(len(frequencies)), desc=\"Fitting n = {} ... \".format(degrees[i])):\n",
    "        nu = frequencies[j]\n",
    "        res = fit_Model_periodogram(data, n, nu)\n",
    "        \n",
    "        results_model2[str(n)]['nu'].append(nu)        \n",
    "        results_model2[str(n)]['aMLE'].append(res['aMLE'])\n",
    "        results_model2[str(n)]['aStd'].append(res['aStd'])\n",
    "        results_model2[str(n)]['yMLE'].append(res['yMLE'])\n",
    "        results_model2[str(n)]['yStd'].append(res['yStd'])\n",
    "        results_model2[str(n)]['chi2'].append(res['chi2'])\n",
    "        results_model2[str(n)]['BIC'].append(res['BIC'])\n",
    "print(\"OK :-)\")"
   ]
  },
  {
   "cell_type": "markdown",
   "id": "adaptive-bleeding",
   "metadata": {},
   "source": [
    "#### Part 2.2 : Periodogram as model comparison\n",
    "\n",
    "We now build the periodogramm using the following formula :\n",
    "\n",
    "\\begin{equation}\n",
    "    p_j(m, l) = p(\\nu_j,\\{m, l\\}) = \\frac{\\chi^{2}_{f_l} - \\chi^{2}_{g_m}(\\nu_{j})}{\\chi^{2}_{f_l}}\n",
    "\\end{equation}\n",
    "\n",
    "##### Point a) Explaining the formula\n",
    "\n",
    "A quel point c'est probable que ce qu'on observe soit vrai en assumant que l'hypothèse nulle soit vraie (pas compris)\n",
    "\n",
    "##### Point b) Program that computes the periodogram defined above."
   ]
  },
  {
   "cell_type": "code",
   "execution_count": null,
   "id": "comparative-gambling",
   "metadata": {
    "ExecuteTime": {
     "end_time": "2023-11-29T19:11:06.233984Z",
     "start_time": "2023-11-29T19:11:06.227858Z"
    }
   },
   "outputs": [],
   "source": [
    "for i in range(len(degrees)):\n",
    "    n = degrees[i]\n",
    "    results_model2[str(n)]['per'] = (results['chi2'][i] - np.array(results_model2[str(n)]['chi2'])/results['chi2'][i]) # Point 2.2.b"
   ]
  },
  {
   "cell_type": "markdown",
   "id": "juvenile-hampton",
   "metadata": {},
   "source": [
    "##### Point c) Program that computes the periodogram according to the BIC value\n",
    "\n",
    "\\begin{equation}\n",
    "p_j(m, l) = p(\\nu_j, \\{m, l\\}) = BIC_{f_l} - BIC_{g_m}(\\nu_j)\n",
    "\\end{equation}"
   ]
  },
  {
   "cell_type": "code",
   "execution_count": null,
   "id": "sapphire-humidity",
   "metadata": {
    "ExecuteTime": {
     "end_time": "2023-11-29T19:11:08.221220Z",
     "start_time": "2023-11-29T19:11:08.213977Z"
    }
   },
   "outputs": [],
   "source": [
    "for i in range(len(degrees)):\n",
    "    n = degrees[i]\n",
    "    results_model2[str(n)]['perBIC'] = np.array(results['BIC'][i] - results_model2[str(n)]['BIC'])"
   ]
  },
  {
   "cell_type": "markdown",
   "id": "reliable-spine",
   "metadata": {},
   "source": [
    "#### Part 2.3 : Data Visualisation\n",
    "Attention aux limites des axes verticaux"
   ]
  },
  {
   "cell_type": "code",
   "execution_count": null,
   "id": "confident-payroll",
   "metadata": {
    "ExecuteTime": {
     "start_time": "2023-11-29T19:11:10.380Z"
    }
   },
   "outputs": [],
   "source": [
    "fig, ax = plt.subplots(nrows=len(degrees), ncols=2, figsize=(20, 10), dpi=300)\n",
    "fig.subplots_adjust(hspace=0.6, wspace=0.1)\n",
    "\n",
    "print(\"{:<4}  {:<6}  {:<6}   {:<6}\".format('n', 'freq', 'per', 'periodo'))\n",
    "\n",
    "for i in range(len(degrees)):\n",
    "    n = degrees[i]\n",
    "    \n",
    "    # Finding maximum value to display on graph\n",
    "    Z = list(zip(periods, results_model2[str(n)]['perBIC']))\n",
    "    Z.sort(key=lambda x: x[1])\n",
    "    maxPer = Z[-1][0] # x coordinate of the maximum value (period)\n",
    "\n",
    "    print(\"{:<4} {:>6.3f}  {:>6.3f}    {:>6.3f}\".format(n, 1/Z[-1][0], Z[-1][0], Z[-1][1]))\n",
    "\n",
    "    # Graphs on the left (Frequency)\n",
    "    ax[i, 0].set_xlabel(\"Frequency\")\n",
    "    ax[i, 0].plot(frequencies, results_model2[str(n)]['perBIC'], linewidth=0.5)\n",
    "    # Graphs on the right (Periods)\n",
    "    ax[i, 1].set_xlabel(\"Period (log)\")\n",
    "    ax[i, 1].set_xscale('log')\n",
    "    \n",
    "    ax[i, 1].plot(periods, results_model2[str(n)]['perBIC'], linewidth=0.5, label='Periodogram')\n",
    "    ax[i, 1].axvline(maxPer, c='r', linewidth=1, label='max')\n",
    "    ax[i, 1].axhline(2*np.log(150), c='g', linewidth=1)\n",
    "\n",
    "ax[0, 1].legend(bbox_to_anchor=(1.05, 1.5)); "
   ]
  }
 ],
 "metadata": {
  "kernelspec": {
   "display_name": "Python 3 (ipykernel)",
   "language": "python",
   "name": "python3"
  },
  "language_info": {
   "codemirror_mode": {
    "name": "ipython",
    "version": 3
   },
   "file_extension": ".py",
   "mimetype": "text/x-python",
   "name": "python",
   "nbconvert_exporter": "python",
   "pygments_lexer": "ipython3",
   "version": "3.11.3"
  },
  "toc": {
   "base_numbering": 1,
   "nav_menu": {},
   "number_sections": true,
   "sideBar": true,
   "skip_h1_title": false,
   "title_cell": "Table of Contents",
   "title_sidebar": "Contents",
   "toc_cell": false,
   "toc_position": {},
   "toc_section_display": true,
   "toc_window_display": false
  }
 },
 "nbformat": 4,
 "nbformat_minor": 5
}
