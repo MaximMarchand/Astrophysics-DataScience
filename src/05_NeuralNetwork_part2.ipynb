{
 "cells": [
  {
   "cell_type": "markdown",
   "id": "comparable-namibia",
   "metadata": {},
   "source": [
    "Maxime Marchand\n",
    "# Astrophysics and Data Science : Project 5\n",
    "## Neural network from scratch, part 2\n",
    "We now train the neural network on custom made 2D data points."
   ]
  },
  {
   "cell_type": "code",
   "execution_count": null,
   "id": "working-european",
   "metadata": {
    "ExecuteTime": {
     "end_time": "2023-11-29T19:30:38.165898Z",
     "start_time": "2023-11-29T19:30:37.424611Z"
    }
   },
   "outputs": [],
   "source": [
    "import numpy as np\n",
    "import matplotlib.pyplot as plt\n",
    "from functions import *"
   ]
  },
  {
   "cell_type": "markdown",
   "id": "false-seminar",
   "metadata": {},
   "source": [
    "We implement a function that returns a boolean array to store the points located in a given circle."
   ]
  },
  {
   "cell_type": "code",
   "execution_count": null,
   "id": "beautiful-uniform",
   "metadata": {
    "ExecuteTime": {
     "end_time": "2023-11-29T19:30:38.173454Z",
     "start_time": "2023-11-29T19:30:38.168945Z"
    }
   },
   "outputs": [],
   "source": [
    "def points_in_circle(points, circle):\n",
    "    \"\"\"\n",
    "    Selects points in a circle\n",
    "    \n",
    "    PARAMETERS\n",
    "        points : np.ndarray [[x1, y1], [x2, y2], ..., [xN, yN]]\n",
    "        circle : np.array   [x, y, radius]\n",
    "    \n",
    "    RETURNS\n",
    "        Boolean array with True where the points are in the circle, False otherwise.\n",
    "    \"\"\"\n",
    "    return (points[:, 0] - circle[0])**2 + (points[:, 1] - circle[1])**2 <= circle[2]**2"
   ]
  },
  {
   "cell_type": "markdown",
   "id": "indoor-basket",
   "metadata": {},
   "source": [
    "### Creation of the dataset"
   ]
  },
  {
   "cell_type": "code",
   "execution_count": null,
   "id": "african-darkness",
   "metadata": {
    "ExecuteTime": {
     "end_time": "2023-11-29T19:30:53.996443Z",
     "start_time": "2023-11-29T19:30:53.987302Z"
    }
   },
   "outputs": [],
   "source": [
    "num_points = 10000\n",
    "points     = np.random.uniform(low=-1.0, high=1.0, size=(num_points, 2)) # Array of point coordinates\n",
    "circles    = np.array([[-0.7,  0.5,  0.5],                               # Array of circles [[x, y, radius], ...]\n",
    "                       [ 0.7,  0.5,  0.5],\n",
    "                       [ 0.0,  0.5,  0.6]])\n",
    "\n",
    "# Boolean array to store the points belonging to a circle\n",
    "sel = np.ndarray(shape=(num_points, len(circles)), dtype=bool)\n",
    "\n",
    "# Fill the sel variable\n",
    "for _ in range(circles.shape[0]):\n",
    "    sel[:, _] = points_in_circle(points, circles[_])\n",
    "    \n",
    "classes = np.sum(sel, axis=1, dtype=bool)  # 0 : point not in circle, 1 : Point in circle"
   ]
  },
  {
   "cell_type": "markdown",
   "id": "double-beginning",
   "metadata": {},
   "source": [
    "## Data visualisation"
   ]
  },
  {
   "cell_type": "code",
   "execution_count": null,
   "id": "healthy-orientation",
   "metadata": {
    "ExecuteTime": {
     "end_time": "2023-11-29T19:30:58.970537Z",
     "start_time": "2023-11-29T19:30:58.615975Z"
    }
   },
   "outputs": [],
   "source": [
    "fig, ax = plt.subplots(figsize=(5, 5))\n",
    "# Plot all the points\n",
    "ax.scatter(points[:, 0], points[:, 1], s=3) \n",
    "# Plot the points located in circles\n",
    "[ax.scatter(points[:, 0][sel[:, _]], points[:, 1][sel[:, _]], s=3, c='C1') for _ in range(sel.shape[1])];"
   ]
  },
  {
   "cell_type": "markdown",
   "id": "uniform-works",
   "metadata": {},
   "source": [
    "### Preparing data for training and validation"
   ]
  },
  {
   "cell_type": "code",
   "execution_count": null,
   "id": "challenging-border",
   "metadata": {
    "ExecuteTime": {
     "end_time": "2023-11-29T19:31:03.326547Z",
     "start_time": "2023-11-29T19:31:03.318340Z"
    }
   },
   "outputs": [],
   "source": [
    "# Creating the targets (converting 0 -> [1, 0] and 1 -> [0, 1])\n",
    "targets = np.ndarray(shape=(len(classes), 2))\n",
    "targets[classes==False, :] = np.array([1, 0])\n",
    "targets[classes==True , :] = np.array([0, 1])\n",
    "\n",
    "# Splitting the data for training and validation\n",
    "training_percent = int(num_points * 0.8) # 80% for training\n",
    "\n",
    "training_set = {\n",
    "    'vectors' :  points[:training_percent],\n",
    "    'classes' : classes[:training_percent],\n",
    "    'targets' : targets[:training_percent]\n",
    "}\n",
    "\n",
    "validation_set = {\n",
    "    'vectors' :  points[training_percent:],\n",
    "    'classes' : classes[training_percent:],\n",
    "    'targets' : targets[training_percent:]\n",
    "}"
   ]
  },
  {
   "cell_type": "markdown",
   "id": "surprised-performance",
   "metadata": {},
   "source": [
    "### Training the network"
   ]
  },
  {
   "cell_type": "code",
   "execution_count": null,
   "id": "refined-check",
   "metadata": {
    "ExecuteTime": {
     "end_time": "2023-11-29T19:31:07.966326Z",
     "start_time": "2023-11-29T19:31:04.575511Z"
    }
   },
   "outputs": [],
   "source": [
    "# Dimention of the data\n",
    "class_dim = len(np.unique(training_set['classes']))  # Number of possible outputs (2 in the case of points)\n",
    "data_dim  = len(training_set['vectors'][0])          # Dimention of the data (2 in the case of points)\n",
    "\n",
    "# Architecture of the network\n",
    "num_neurons_input  = data_dim\n",
    "num_hidden_layers  = 0\n",
    "num_neurons_hidden = 2\n",
    "num_neurons_output = class_dim\n",
    "\n",
    "# Training parameters\n",
    "num_epochs     = 3\n",
    "learning_rate  = 0.05\n",
    "transfert_mode = 'sig'\n",
    "\n",
    "network = generate_neural_network(num_neurons_input, num_hidden_layers, num_neurons_hidden, num_neurons_output)\n",
    "network, vec_cost = train_network(network, num_epochs, learning_rate, training_set, transfert_mode)"
   ]
  },
  {
   "cell_type": "code",
   "execution_count": null,
   "id": "about-cornwall",
   "metadata": {
    "ExecuteTime": {
     "end_time": "2023-11-29T19:31:09.039858Z",
     "start_time": "2023-11-29T19:31:08.802056Z"
    }
   },
   "outputs": [],
   "source": [
    "plt.plot(vec_cost)"
   ]
  },
  {
   "cell_type": "code",
   "execution_count": null,
   "id": "western-strengthening",
   "metadata": {
    "ExecuteTime": {
     "end_time": "2023-11-29T19:31:12.651576Z",
     "start_time": "2023-11-29T19:31:12.647684Z"
    }
   },
   "outputs": [],
   "source": [
    "def class_from_output(output):\n",
    "    \"\"\"\n",
    "    Converts target vector to class\n",
    "    \n",
    "    PARAMETERS\n",
    "        output : np.array\n",
    "        \n",
    "    RETURNS\n",
    "        0 if output == [1, 0]\n",
    "        1 if output == [0, 1]\n",
    "    \"\"\"\n",
    "    return float(np.where(output == np.max(output))[0])"
   ]
  },
  {
   "cell_type": "code",
   "execution_count": null,
   "id": "noble-happiness",
   "metadata": {
    "ExecuteTime": {
     "end_time": "2023-11-29T19:31:14.378982Z",
     "start_time": "2023-11-29T19:31:14.227938Z"
    }
   },
   "outputs": [],
   "source": [
    "predicted_values = np.ndarray(len(validation_set['vectors']))\n",
    "\n",
    "for i in range(len(validation_set['vectors'])):\n",
    "    entry      = validation_set['vectors'][i]                        # Data to put in network\n",
    "    network    = forward_propagation(network, entry, transfert_mode) # Forward propagation \n",
    "    net_output = network[-1]['O']                                    # Predicted value from network\n",
    "    predicted_values[i] = class_from_output(net_output)              # Storing the predicted class\n",
    "    \n",
    "    \n",
    "# Counting good answers\n",
    "numGoodAnswers = 0\n",
    "for i in range(len(predicted_values)):\n",
    "    if predicted_values[i] == validation_set['classes'][i]:\n",
    "        numGoodAnswers += 1\n",
    "        \n",
    "goodAnswersPercent = 100*numGoodAnswers/len(predicted_values)\n",
    "print(numGoodAnswers, \"/\", len(predicted_values), \"good answers. ({:.2f}%)\".format(goodAnswersPercent))\n",
    "\n",
    "if goodAnswersPercent > 90:\n",
    "    print(\"Yahoo !\")"
   ]
  }
 ],
 "metadata": {
  "kernelspec": {
   "display_name": "Python 3 (ipykernel)",
   "language": "python",
   "name": "python3"
  },
  "language_info": {
   "codemirror_mode": {
    "name": "ipython",
    "version": 3
   },
   "file_extension": ".py",
   "mimetype": "text/x-python",
   "name": "python",
   "nbconvert_exporter": "python",
   "pygments_lexer": "ipython3",
   "version": "3.11.3"
  },
  "toc": {
   "base_numbering": 1,
   "nav_menu": {},
   "number_sections": true,
   "sideBar": true,
   "skip_h1_title": false,
   "title_cell": "Table of Contents",
   "title_sidebar": "Contents",
   "toc_cell": false,
   "toc_position": {},
   "toc_section_display": true,
   "toc_window_display": false
  }
 },
 "nbformat": 4,
 "nbformat_minor": 5
}
